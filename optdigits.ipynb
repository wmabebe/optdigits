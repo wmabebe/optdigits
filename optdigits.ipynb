{
 "cells": [
  {
   "cell_type": "code",
   "execution_count": 207,
   "metadata": {},
   "outputs": [],
   "source": [
    "from __future__ import absolute_import, division, print_function\n",
    "import tensorflow as tf\n",
    "from tensorflow import keras\n",
    "from tensorflow.keras import optimizers\n",
    "import numpy as np\n",
    "import matplotlib.pyplot as plt\n",
    "from prettytable import PrettyTable"
   ]
  },
  {
   "cell_type": "code",
   "execution_count": 208,
   "metadata": {},
   "outputs": [],
   "source": [
    "train_data = []\n",
    "train_labels = []\n",
    "with open(\"optdigits.tra\") as tra:\n",
    "    for line in tra.readlines():\n",
    "        row = [int(x) for x in line.split(\",\")]\n",
    "        train_data.append(row[:-1])\n",
    "        train_labels.append(row[64])\n",
    "\n",
    "train_data = np.array(train_data)\n",
    "train_labels = np.array(train_labels)\n",
    "\n",
    "test_data = []\n",
    "test_labels = []\n",
    "with open(\"optdigits.tes\") as tes:\n",
    "    for line in tes.readlines():\n",
    "        row = [int(x) for x in line.split(\",\")]\n",
    "        test_data.append(row[:-1])\n",
    "        test_labels.append(row[64])\n",
    "\n",
    "test_data = np.array(test_data)\n",
    "test_labels = np.array(test_labels)\n",
    "\n",
    "train_data_scaled = train_data / 16.0\n",
    "test_data_scaled = test_data / 16.0"
   ]
  },
  {
   "cell_type": "code",
   "execution_count": 209,
   "metadata": {},
   "outputs": [
    {
     "name": "stdout",
     "output_type": "stream",
     "text": [
      "Train data size, dimensionX, dimensionY (3823, 64)\n",
      "[0 0 7 ... 6 6 7]\n",
      "Test data size, dimensionX, dimensionY (1797, 64)\n"
     ]
    }
   ],
   "source": [
    "print (\"Train data size, dimensionX, dimensionY \" + str(train_data.shape))\n",
    "print (train_labels)\n",
    "print (\"Test data size, dimensionX, dimensionY \" + str(test_data.shape))"
   ]
  },
  {
   "cell_type": "code",
   "execution_count": 210,
   "metadata": {},
   "outputs": [],
   "source": [
    "def train(train_data, train_labels,test_data, test_labels,loss,unit,layers,alpha,momentum,epochs):\n",
    "    model = keras.Sequential([])\n",
    "    \n",
    "    for i in range(layers):\n",
    "        model.add(keras.layers.Dense(128,activation=tf.nn.relu if unit.__eq__('relu') else tf.nn.tanh))\n",
    "    \n",
    "    model.add(keras.layers.Dense(10, activation=tf.nn.softmax))\n",
    "    \n",
    "    opt = optimizers.SGD(lr=alpha, decay=1e-6, momentum=momentum, nesterov=False)\n",
    "    opt2 = optimizers.Adam(lr=alpha, beta_1=0.9, beta_2=0.999, epsilon=None, decay=0.0, amsgrad=False)\n",
    "\n",
    "    model.compile(optimizer=opt2, \n",
    "                  loss=loss,\n",
    "                  metrics=['accuracy'])\n",
    "    model.fit(train_data, train_labels, epochs=epochs,verbose=0) #verbose=0 to suppress epoch prints\n",
    "    test_loss, test_acc = model.evaluate(test_data, test_labels)\n",
    "    \n",
    "    return test_loss,test_acc\n"
   ]
  },
  {
   "cell_type": "code",
   "execution_count": 214,
   "metadata": {},
   "outputs": [
    {
     "name": "stdout",
     "output_type": "stream",
     "text": [
      "1797/1797 [==============================] - 2s 870us/sample - loss: 0.1911 - acc: 0.9427\n",
      "1797/1797 [==============================] - 2s 873us/sample - loss: 0.1519 - acc: 0.9572\n",
      "1797/1797 [==============================] - 3s 1ms/sample - loss: 0.2833 - acc: 0.9232\n",
      "1797/1797 [==============================] - 2s 1ms/sample - loss: 0.1952 - acc: 0.9405\n",
      "1797/1797 [==============================] - 2s 1ms/sample - loss: 0.1585 - acc: 0.9471\n",
      "+---------------------------------+------+-------------+--------+--------+------------+\n",
      "|             Err_Func            | Unit | Learning R. | Layers | epochs |  Accuracy  |\n",
      "+---------------------------------+------+-------------+--------+--------+------------+\n",
      "| sparse_categorical_crossentropy | relu |    0.001    |   1    |   5    | 0.94268227 |\n",
      "| sparse_categorical_crossentropy | relu |    0.001    |   3    |   5    | 0.9571508  |\n",
      "| sparse_categorical_crossentropy | relu |    0.001    |   7    |   5    | 0.9232053  |\n",
      "| sparse_categorical_crossentropy | relu |     0.01    |   1    |   5    | 0.94045633 |\n",
      "| sparse_categorical_crossentropy | relu |     0.01    |   3    |   5    | 0.94713414 |\n",
      "+---------------------------------+------+-------------+--------+--------+------------+\n"
     ]
    }
   ],
   "source": [
    "err_funcs = ['sparse_categorical_crossentropy','mean_squared_error']\n",
    "units = ['relu','tanh']\n",
    "alphas = [0.001,0.01,0.05,0.1]\n",
    "layers = [1,3,7]\n",
    "#momentums = [0.1,0.5,0.9\n",
    "#scaling = [1.0,8.0,16.0]\n",
    "#epochs = [5,10,20,50]\n",
    "#accuracies = []\n",
    "\n",
    "\n",
    "table = PrettyTable()\n",
    "table.field_names = [\"Err_Func\", \"Unit\", \"Learning R.\", \"Layers\",\"epochs\",\"Accuracy\"]\n",
    "\n",
    "count = 0\n",
    "for err_func in err_funcs:\n",
    "    for unit in units:\n",
    "        for alpha in alphas:\n",
    "            for layer in layers:\n",
    "                _,acc = train(train_data_scaled, train_labels,test_data_scaled, test_labels,err_func,unit,layer,alpha,0.9,5)\n",
    "                table.add_row([err_func,unit,alpha,layer,5,'{0:.2f} %'.format(acc * 100)])\n",
    "                count += 1\n",
    "                if count >= 5: break\n",
    "            if count >= 5: break\n",
    "        if count >= 5: break\n",
    "    if count >= 5: break\n",
    "\n",
    "print(table)\n"
   ]
  },
  {
   "cell_type": "code",
   "execution_count": null,
   "metadata": {},
   "outputs": [],
   "source": []
  }
 ],
 "metadata": {
  "kernelspec": {
   "display_name": "Python 3",
   "language": "python",
   "name": "python3"
  },
  "language_info": {
   "codemirror_mode": {
    "name": "ipython",
    "version": 3
   },
   "file_extension": ".py",
   "mimetype": "text/x-python",
   "name": "python",
   "nbconvert_exporter": "python",
   "pygments_lexer": "ipython3",
   "version": "3.7.1"
  }
 },
 "nbformat": 4,
 "nbformat_minor": 2
}
