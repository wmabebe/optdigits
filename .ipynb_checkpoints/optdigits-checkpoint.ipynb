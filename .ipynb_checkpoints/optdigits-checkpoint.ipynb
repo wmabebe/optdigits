{
 "cells": [
  {
   "cell_type": "code",
   "execution_count": 71,
   "metadata": {},
   "outputs": [],
   "source": [
    "from __future__ import absolute_import, division, print_function\n",
    "import tensorflow as tf\n",
    "from tensorflow import keras\n",
    "from tensorflow.keras import optimizers\n",
    "import numpy as np\n",
    "import matplotlib.pyplot as plt"
   ]
  },
  {
   "cell_type": "code",
   "execution_count": 72,
   "metadata": {},
   "outputs": [],
   "source": [
    "train_data = []\n",
    "train_labels = []\n",
    "with open(\"optdigits.tra\") as tra:\n",
    "    for line in tra.readlines():\n",
    "        row = [int(x) for x in line.split(\",\")]\n",
    "        train_data.append(row[:-1])\n",
    "        train_labels.append(row[64])\n",
    "\n",
    "train_data = np.array(train_data)\n",
    "train_labels = np.array(train_labels)\n",
    "\n",
    "test_data = []\n",
    "test_labels = []\n",
    "with open(\"optdigits.tes\") as tes:\n",
    "    for line in tes.readlines():\n",
    "        row = [int(x) for x in line.split(\",\")]\n",
    "        test_data.append(row[:-1])\n",
    "        test_labels.append(row[64])\n",
    "\n",
    "test_data = np.array(test_data)\n",
    "test_labels = np.array(test_labels)"
   ]
  },
  {
   "cell_type": "code",
   "execution_count": 73,
   "metadata": {},
   "outputs": [
    {
     "name": "stdout",
     "output_type": "stream",
     "text": [
      "Train data size, dimensionX, dimensionY (3823, 64)\n",
      "[0 0 7 ... 6 6 7]\n",
      "Test data size, dimensionX, dimensionY (1797, 64)\n"
     ]
    }
   ],
   "source": [
    "print (\"Train data size, dimensionX, dimensionY \" + str(train_data.shape))\n",
    "print (train_labels)\n",
    "print (\"Test data size, dimensionX, dimensionY \" + str(test_data.shape))"
   ]
  },
  {
   "cell_type": "code",
   "execution_count": 96,
   "metadata": {},
   "outputs": [],
   "source": [
    "def train(train_data, train_labels,test_data, test_labels,loss,units,layers,alpha,momentum,scaling,epochs):\n",
    "    train_data = train_data / scaling\n",
    "    test_data = test_data / scaling\n",
    "    model = keras.Sequential([\n",
    "        #keras.layers.Dense(128, activation=units),\n",
    "        keras.layers.Dense(10, activation=tf.nn.softmax)\n",
    "    ])\n",
    "    for i in range(layers):\n",
    "        model.add(keras.layers.Dense(128,activation=units))\n",
    "    \n",
    "    opt = optimizers.SGD(lr=alpha, decay=1e-6, momentum=momentum, nesterov=True)\n",
    "    model.compile(optimizer=opt, \n",
    "                  loss=loss,\n",
    "                  metrics=['accuracy'])\n",
    "    model.fit(train_data, train_labels, epochs=epochs) #verbose=0 to suppress epoch prints\n",
    "    test_loss, test_acc = model.evaluate(test_data, test_labels)\n",
    "    \n",
    "    return test_loss,test_acc\n"
   ]
  },
  {
   "cell_type": "code",
   "execution_count": 97,
   "metadata": {},
   "outputs": [
    {
     "name": "stdout",
     "output_type": "stream",
     "text": [
      "Epoch 1/5\n",
      "3823/3823 [==============================] - 1s 323us/sample - loss: 24.2849 - acc: 0.0000e+00\n",
      "Epoch 2/5\n",
      "3823/3823 [==============================] - 0s 122us/sample - loss: 16.7702 - acc: 0.0000e+00\n",
      "Epoch 3/5\n",
      "3823/3823 [==============================] - 1s 147us/sample - loss: 16.6780 - acc: 7.8472e-04\n",
      "Epoch 4/5\n",
      "3823/3823 [==============================] - 1s 137us/sample - loss: 16.3954 - acc: 0.0050\n",
      "Epoch 5/5\n",
      "3823/3823 [==============================] - 1s 162us/sample - loss: 15.2895 - acc: 5.2315e-04\n",
      "1797/1797 [==============================] - 1s 461us/sample - loss: 15.1881 - acc: 0.0000e+00\n",
      "Err_Func \t\t Unit \t Learning R. \t Momentum \t Accuracy\n",
      "mean_squared_error\trelu\t0.001\t0.1\t0.0\n"
     ]
    }
   ],
   "source": [
    "err_funcs = ['mean_squared_error','categorical_crossentropy']\n",
    "units = ['relu','tanh']\n",
    "alphas = [0.001,0.01,0.05,0.1]\n",
    "momentums = [0.1,0.5,0.9]\n",
    "#layers = [0,3,7]\n",
    "#scaling = [1.0,8.0,16.0]\n",
    "#epochs = [5,10,20,50]\n",
    "accuracies = []\n",
    "_, test_acc = train(train_data, train_labels,test_data, test_labels,'mean_squared_error','relu',5,0.01,0.1,16,5)\n",
    "print('Test accuracy:', test_acc)\n",
    "accuracies.append(test_acc)\n",
    "\n",
    "print (\"Err_Func \\t\\t Unit \\t Learning R. \\t Momentum \\t Accuracy\")\n",
    "print ('mean_squared_error' + \"\\t\" + 'relu' + \"\\t\" + str(0.001) + \"\\t\" + str(0.1) + \"\\t\" + str(accuracies[0]))\n",
    "# for err_func in err_funcs:\n",
    "#     for unit in units:\n",
    "#         for alpha in alphas:\n",
    "#             for m in momentums:\n",
    "#                 print (err_func + \"\\t\" + unit + \"\\t\" + str(alpha) + \"\\t\" + str(m) + \"\\t\" + str(train(train_data, train_labels,test_data, test_labels,err_func,unit,5,alpha,m,16,5)))\n"
   ]
  },
  {
   "cell_type": "code",
   "execution_count": null,
   "metadata": {},
   "outputs": [],
   "source": []
  }
 ],
 "metadata": {
  "kernelspec": {
   "display_name": "Python 3",
   "language": "python",
   "name": "python3"
  },
  "language_info": {
   "codemirror_mode": {
    "name": "ipython",
    "version": 3
   },
   "file_extension": ".py",
   "mimetype": "text/x-python",
   "name": "python",
   "nbconvert_exporter": "python",
   "pygments_lexer": "ipython3",
   "version": "3.7.1"
  }
 },
 "nbformat": 4,
 "nbformat_minor": 2
}
